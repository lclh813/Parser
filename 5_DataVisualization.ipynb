{
 "cells": [
  {
   "cell_type": "markdown",
   "metadata": {},
   "source": [
    "## 5. Data Visualization"
   ]
  },
  {
   "cell_type": "code",
   "execution_count": null,
   "metadata": {},
   "outputs": [],
   "source": [
    "# Configure an output to a standalone HTML file.\n",
    "output_file('5_InteractiveLineChart.html')"
   ]
  },
  {
   "cell_type": "code",
   "execution_count": null,
   "metadata": {},
   "outputs": [],
   "source": [
    "# Create a list to include 4 plots which will be arranged into a grid.\n",
    "g = []\n",
    "\n",
    "# Specify the display of tooltips.\n",
    "# {%F} suggests that datetime will be formatted as YYYY-MM-DD.\n",
    "# Notice: Tooltip data is associated with \"source.\"\n",
    "hover = HoverTool(tooltips=[('Commodity', '@Commodity'),('Date', '@Date{%F}'),('Price', '@Price')],\n",
    "                  formatters={'Date': 'datetime'})\n",
    "\n",
    "# Specify which mean group is to be processed.\n",
    "for i in range(len(mean_gp)):\n",
    "\n",
    "    # Set overall formats of the plot.\n",
    "    p = figure(plot_width=800, plot_height=800, x_axis_type='datetime')\n",
    "    p.title.text = 'Commodity Prices: Group%d'% (i+1)\n",
    "    p.add_tools(hover)\n",
    "\n",
    "    # Specify which element of the selected mean group is to be processed.\n",
    "    for df, color in zip(mean_gp[i], viridis(7)):\n",
    "        \n",
    "        # Define legend items.\n",
    "        name = df['comm'].unique()[0]\n",
    "\n",
    "        # Convert argument to datetime.\n",
    "        df['date'] = pd.to_datetime(df['date'])\n",
    "        # Define data that is to be imported for plotting.\n",
    "        source = ColumnDataSource(data={'Commodity': df['comm'], 'Date': df['date'], 'Price': df['price']})\n",
    "        # Set overall formats of the line chart.\n",
    "        # Notice: Data is associated with \"source.\"\n",
    "        r = p.line(x='Date', y='Price', line_width=2, color=color, alpha=0.8,\n",
    "                   muted_color=color, muted_alpha=0.2, legend=name, source=source)\n",
    "        # Default line chart as muted.\n",
    "        r.muted = True\n",
    "\n",
    "        # Location of legend.\n",
    "        p.legend.location = 'top_left'\n",
    "        # click on the legend item and the corresponding line will be muted or lighted up. \n",
    "        p.legend.click_policy = 'mute'\n",
    "        # Add thousand separator to labels of Y-axis. \n",
    "        p.yaxis.formatter = NumeralTickFormatter(format='0,0')\n",
    "        \n",
    "    g.append(p)  \n",
    "    \n",
    "grid = gridplot(g, ncols=2, nrows=2, plot_width=400, plot_height=400)\n",
    "\n",
    "output_notebook()\n",
    "show(grid)"
   ]
  }
 ],
 "metadata": {
  "kernelspec": {
   "display_name": "Python 3",
   "language": "python",
   "name": "python3"
  },
  "language_info": {
   "codemirror_mode": {
    "name": "ipython",
    "version": 3
   },
   "file_extension": ".py",
   "mimetype": "text/x-python",
   "name": "python",
   "nbconvert_exporter": "python",
   "pygments_lexer": "ipython3",
   "version": "3.6.5"
  }
 },
 "nbformat": 4,
 "nbformat_minor": 2
}
