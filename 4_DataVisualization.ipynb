{
 "cells": [
  {
   "cell_type": "markdown",
   "metadata": {},
   "source": [
    "## 4. Data Visualization"
   ]
  },
  {
   "cell_type": "code",
   "execution_count": null,
   "metadata": {},
   "outputs": [],
   "source": [
    "# Configure an output to a standalone HTML file.\n",
    "output_file('4_InteractiveLineChart.html')"
   ]
  },
  {
   "cell_type": "code",
   "execution_count": null,
   "metadata": {},
   "outputs": [],
   "source": [
    "# Specify the display of tooltips.\n",
    "# Datetime will be formatted as YYYY-MM-DD.\n",
    "hover = HoverTool(tooltips=[('Commodity', '@Commodity'),('Date', '@Date{%F}'),('Price', '@Price')],\n",
    "                  formatters={'Date': 'datetime'})\n",
    "\n",
    "# Set overall formats of the plot.\n",
    "p = figure(plot_width=800, plot_height=800, x_axis_type='datetime')\n",
    "p.title.text = 'Commodity Prices'\n",
    "p.add_tools(hover)\n",
    "\n",
    "# Start Plotting.\n",
    "for df, name, color in zip(list_df, comms, viridis(27)):\n",
    "    \n",
    "    # Convert argument to datetime.\n",
    "    df['date'] = pd.to_datetime(df['date'])\n",
    "    # Import data for plotting.\n",
    "    source = ColumnDataSource(data={'Commodity': df['comm'], 'Date': df['date'], 'Price': df['price']})\n",
    "    # Set overall formats of the line chart.\n",
    "    r = p.line(x='Date', y='Price', line_width=2, color=color, alpha=0.8,\n",
    "               muted_color=color, muted_alpha=0.2, legend=name, source=source)\n",
    "    # Default line chart as muted.\n",
    "    r.muted = True\n",
    "\n",
    "# Location of legend.\n",
    "p.legend.location = 'top_left'\n",
    "# click on the legend item and the corresponding line will be muted. \n",
    "p.legend.click_policy = 'mute'\n",
    "# Add thousand separator to labels of Y-axis. \n",
    "p.yaxis.formatter = NumeralTickFormatter(format='0,0')\n",
    "\n",
    "output_notebook()\n",
    "\n",
    "show(p)"
   ]
  }
 ],
 "metadata": {
  "kernelspec": {
   "display_name": "Python 3",
   "language": "python",
   "name": "python3"
  },
  "language_info": {
   "codemirror_mode": {
    "name": "ipython",
    "version": 3
   },
   "file_extension": ".py",
   "mimetype": "text/x-python",
   "name": "python",
   "nbconvert_exporter": "python",
   "pygments_lexer": "ipython3",
   "version": "3.6.5"
  }
 },
 "nbformat": 4,
 "nbformat_minor": 2
}
