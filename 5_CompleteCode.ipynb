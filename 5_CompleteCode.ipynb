{
 "cells": [
  {
   "cell_type": "markdown",
   "metadata": {},
   "source": [
    "## 1. Import Library"
   ]
  },
  {
   "cell_type": "markdown",
   "metadata": {},
   "source": [
    "### 1.1. Import Standard Library"
   ]
  },
  {
   "cell_type": "code",
   "execution_count": null,
   "metadata": {},
   "outputs": [],
   "source": [
    "import itertools\n",
    "import pandas as pd"
   ]
  },
  {
   "cell_type": "markdown",
   "metadata": {},
   "source": [
    "### 1.2. Import Parser Library"
   ]
  },
  {
   "cell_type": "code",
   "execution_count": null,
   "metadata": {},
   "outputs": [],
   "source": [
    "import requests\n",
    "from bs4 import BeautifulSoup"
   ]
  },
  {
   "cell_type": "markdown",
   "metadata": {},
   "source": [
    "### 1.3. Import Interactive Graphing Library: Bokeh"
   ]
  },
  {
   "cell_type": "code",
   "execution_count": null,
   "metadata": {},
   "outputs": [],
   "source": [
    "from bokeh.palettes import viridis\n",
    "from bokeh.models import ColumnDataSource, DatetimeTickFormatter, HoverTool,  NumeralTickFormatter\n",
    "from bokeh.io import show, output_file, output_notebook\n",
    "from bokeh.plotting import figure, output_notebook"
   ]
  },
  {
   "cell_type": "markdown",
   "metadata": {},
   "source": [
    "## 2. Web Scraping"
   ]
  },
  {
   "cell_type": "markdown",
   "metadata": {},
   "source": [
    "### 2.1. Scraping Contents of Main Page"
   ]
  },
  {
   "cell_type": "code",
   "execution_count": null,
   "metadata": {},
   "outputs": [],
   "source": [
    "resp = requests.get('http://www.stockq.org/market/commodity.php')\n",
    "resp.encoding='utf-8'\n",
    "soup = BeautifulSoup(resp.text, 'html.parser')\n",
    "print(soup)"
   ]
  },
  {
   "cell_type": "markdown",
   "metadata": {},
   "source": [
    "### 2.2. Scraping Contents of Subpages"
   ]
  },
  {
   "cell_type": "code",
   "execution_count": null,
   "metadata": {},
   "outputs": [],
   "source": [
    "# Tag \"a\" is included in Tag \"td.\"\n",
    "td = soup.find_all('td')\n",
    "# Tag \"a\" contains hyperlinks of listed commodities.\n",
    "hrefs = []\n",
    "comms = []\n",
    "\n",
    "for s in td:\n",
    "    try:\n",
    "        a = s.find('a', href=True)\n",
    "        hrefs.append(\"http://www.stockq.org\" + a['href'])\n",
    "        comms.append(s.find('a').text)\n",
    "    except:\n",
    "        pass"
   ]
  },
  {
   "cell_type": "markdown",
   "metadata": {},
   "source": [
    "## 3. Clean Dataset"
   ]
  },
  {
   "cell_type": "markdown",
   "metadata": {},
   "source": [
    "### 3.1. Extract Data"
   ]
  },
  {
   "cell_type": "code",
   "execution_count": null,
   "metadata": {},
   "outputs": [],
   "source": [
    "# Ignore data that is not relevant to commodites.   \n",
    "comms = comms[11:-2]\n",
    "# Hyperlinks of corresponding commodities.\n",
    "hrefs = hrefs[11:-2]\n",
    "\n",
    "date = []\n",
    "price = []\n",
    "\n",
    "for href in hrefs: \n",
    "    \n",
    "    # Extract data from the subpage of corresponding commoditiy. . \n",
    "    resp = requests.get(href)\n",
    "    resp.encoding='utf-8'\n",
    "    soup = BeautifulSoup(resp.text, 'html.parser')\n",
    "    \n",
    "    # Price for each trading session of the specified commodity is listed in:\n",
    "    # Level 1: 3rd Tag \"table\" with Class named \"indexpagetable.\"\n",
    "    # Level 2: Tag \"tr\" with Class named \"row1\" and \"row2,\"\n",
    "    # where \"row1\" stands for \"odd rows\" of the table\n",
    "    # while \"row2\" stands for \"even rows\" of the table.\n",
    "    # Level 3: 1st and 4th Tag \"td\" include the \"dates\" of trading sessions\n",
    "    # while 2nd and 5th Tag \"td\" include the corresponding prices.\n",
    "    tables = soup.find_all('table', {'class': 'indexpagetable'})\n",
    "    table = tables[2]\n",
    "\n",
    "    rows = table.find_all('tr', {'class': ['row1', 'row2']})    \n",
    "\n",
    "    # .find: find the 1st one.\n",
    "    for row in rows:\n",
    "        td = row.find('td')\n",
    "        date.append(td.text)   \n",
    "\n",
    "    for row in rows:\n",
    "        td = row.find_all('td')[3]\n",
    "        date.append(td.text)\n",
    "\n",
    "    for row in rows:\n",
    "        td = row.find_all('td')[1]\n",
    "        price.append(td.text)\n",
    "\n",
    "    for row in rows:\n",
    "        td = row.find_all('td')[4]\n",
    "        price.append(td.text)  \n",
    "    \n",
    "    # Make the length of \"List of Commodities\" identical to that of \"Date\" and \"Price\" data\n",
    "    # by repeating each commodity itself 20 times.   \n",
    "    n = int(len(date)/len(comms))\n",
    "    comm = list(itertools.chain.from_iterable((itertools.repeat(comm, n) for comm in comms)))"
   ]
  },
  {
   "cell_type": "markdown",
   "metadata": {},
   "source": [
    "### 3.2. Create Dataframe"
   ]
  },
  {
   "cell_type": "code",
   "execution_count": null,
   "metadata": {},
   "outputs": [],
   "source": [
    "df = pd.DataFrame({'comm':comm, 'date': date, 'price': price})\n",
    "df"
   ]
  },
  {
   "cell_type": "markdown",
   "metadata": {},
   "source": [
    "### 3.3. Remove Data"
   ]
  },
  {
   "cell_type": "code",
   "execution_count": null,
   "metadata": {},
   "outputs": [],
   "source": [
    "# Specify commodies that are not within the analysis period.  \n",
    "df[df['date'].str.contains('2018/09')]"
   ]
  },
  {
   "cell_type": "code",
   "execution_count": null,
   "metadata": {},
   "outputs": [],
   "source": [
    "# Exclude the specified data from the dataframe.\n",
    "df = df[df['comm'] != '鈾']\n",
    "df"
   ]
  },
  {
   "cell_type": "code",
   "execution_count": null,
   "metadata": {},
   "outputs": [],
   "source": [
    "# Remove the specified commodity from the list.\n",
    "comms.remove('鈾')\n",
    "comms"
   ]
  },
  {
   "cell_type": "markdown",
   "metadata": {},
   "source": [
    "### 3.4. Split Dataframe into Chunks"
   ]
  },
  {
   "cell_type": "code",
   "execution_count": null,
   "metadata": {},
   "outputs": [],
   "source": [
    "# There are 20 datasets for each commodity.  \n",
    "n = int(len(date)/len(comms))\n",
    "# There are 540 rows in \"df\" and the interval should be set as 20 to split \"df\" into 27 even chunks. \n",
    "list_df = [df[i:i+n] for i in range(0,df.shape[0],n)]\n",
    "list_df"
   ]
  },
  {
   "cell_type": "markdown",
   "metadata": {},
   "source": [
    "## 4. Data Visualization"
   ]
  },
  {
   "cell_type": "code",
   "execution_count": null,
   "metadata": {},
   "outputs": [],
   "source": [
    "# Configure an output to a standalone HTML file.\n",
    "output_file('4_InteractiveLineChart.html')"
   ]
  },
  {
   "cell_type": "code",
   "execution_count": null,
   "metadata": {},
   "outputs": [],
   "source": [
    "# Specify the display of tooltips.\n",
    "# Datetime will be formatted as YYYY-MM-DD.\n",
    "hover = HoverTool(tooltips=[('Commodity', '@Commodity'),('Date', '@Date{%F}'),('Price', '@Price')],\n",
    "                  formatters={'Date': 'datetime'})\n",
    "\n",
    "# Set overall formats of the plot.\n",
    "p = figure(plot_width=800, plot_height=800, x_axis_type='datetime')\n",
    "p.title.text = 'Commodity Prices'\n",
    "p.add_tools(hover)\n",
    "\n",
    "# Start Plotting.\n",
    "for df, name, color in zip(list_df, comms, viridis(27)):\n",
    "    \n",
    "    # Convert argument to datetime.\n",
    "    df['date'] = pd.to_datetime(df['date'])\n",
    "    # Import data for plotting.\n",
    "    source = ColumnDataSource(data={'Commodity': df['comm'], 'Date': df['date'], 'Price': df['price']})\n",
    "    # Set overall formats of the line chart.\n",
    "    r = p.line(x='Date', y='Price', line_width=2, color=color, alpha=0.8,\n",
    "               muted_color=color, muted_alpha=0.2, legend=name, source=source)\n",
    "    # Default line chart as muted.\n",
    "    r.muted = True\n",
    "\n",
    "# Location of legend.\n",
    "p.legend.location = 'top_left'\n",
    "# click on the legend item and the corresponding line will be muted or lighted up. \n",
    "p.legend.click_policy = 'mute'\n",
    "# Add thousand separator to labels of Y-axis. \n",
    "p.yaxis.formatter = NumeralTickFormatter(format='0,0')\n",
    "\n",
    "output_notebook()\n",
    "\n",
    "show(p)"
   ]
  }
 ],
 "metadata": {
  "kernelspec": {
   "display_name": "Python 3",
   "language": "python",
   "name": "python3"
  },
  "language_info": {
   "codemirror_mode": {
    "name": "ipython",
    "version": 3
   },
   "file_extension": ".py",
   "mimetype": "text/x-python",
   "name": "python",
   "nbconvert_exporter": "python",
   "pygments_lexer": "ipython3",
   "version": "3.6.5"
  }
 },
 "nbformat": 4,
 "nbformat_minor": 2
}
