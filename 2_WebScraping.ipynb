{
 "cells": [
  {
   "cell_type": "markdown",
   "metadata": {},
   "source": [
    "## 2. Web Scraping"
   ]
  },
  {
   "cell_type": "markdown",
   "metadata": {},
   "source": [
    "### 2.1. Scraping Contents of Main Page"
   ]
  },
  {
   "cell_type": "code",
   "execution_count": null,
   "metadata": {},
   "outputs": [],
   "source": [
    "resp = requests.get('http://www.stockq.org/market/commodity.php')\n",
    "resp.encoding = 'utf-8'\n",
    "soup = BeautifulSoup(resp.text, 'html.parser')\n",
    "print(soup)"
   ]
  },
  {
   "cell_type": "markdown",
   "metadata": {},
   "source": [
    "### 2.2. Scraping Contents of Subpages"
   ]
  },
  {
   "cell_type": "code",
   "execution_count": null,
   "metadata": {},
   "outputs": [],
   "source": [
    "# Tag \"a\" is included in Tag \"td.\"\n",
    "td = soup.find_all('td')\n",
    "# Tag \"a\" contains hyperlinks of listed commodities.\n",
    "hrefs = []\n",
    "comms = []\n",
    "\n",
    "for s in td:\n",
    "    try:\n",
    "        a = s.find('a', href=True)\n",
    "        hrefs.append(\"http://www.stockq.org\" + a['href'])\n",
    "        comms.append(s.find('a').text)\n",
    "    except:\n",
    "        pass"
   ]
  }
 ],
 "metadata": {
  "kernelspec": {
   "display_name": "Python 3",
   "language": "python",
   "name": "python3"
  },
  "language_info": {
   "codemirror_mode": {
    "name": "ipython",
    "version": 3
   },
   "file_extension": ".py",
   "mimetype": "text/x-python",
   "name": "python",
   "nbconvert_exporter": "python",
   "pygments_lexer": "ipython3",
   "version": "3.6.5"
  }
 },
 "nbformat": 4,
 "nbformat_minor": 2
}
