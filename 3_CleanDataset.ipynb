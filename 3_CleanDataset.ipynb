{
 "cells": [
  {
   "cell_type": "markdown",
   "metadata": {},
   "source": [
    "## 3. Clean Dataset"
   ]
  },
  {
   "cell_type": "markdown",
   "metadata": {},
   "source": [
    "### 3.1. Extract Data"
   ]
  },
  {
   "cell_type": "code",
   "execution_count": null,
   "metadata": {},
   "outputs": [],
   "source": [
    "# Ignore data that is not relevant to commodites.   \n",
    "comms = comms[11:-2]\n",
    "# Hyperlinks of corresponding commodities.\n",
    "hrefs = hrefs[11:-2]\n",
    "\n",
    "date = []\n",
    "price = []\n",
    "\n",
    "for href in hrefs: \n",
    "    \n",
    "    # Extract data from the subpage of corresponding commoditiy. . \n",
    "    resp = requests.get(href)\n",
    "    resp.encoding='utf-8'\n",
    "    soup = BeautifulSoup(resp.text, 'html.parser')\n",
    "    \n",
    "    # Price for each trading session of the specified commodity is listed in:\n",
    "    # Level 1: 3rd Tag \"table\" with Class named \"indexpagetable.\"\n",
    "    # Level 2: Tag \"tr\" with Class named \"row1\" and \"row2,\"\n",
    "    # where \"row1\" stands for \"odd rows\" of the table\n",
    "    # while \"row2\" stands for \"even rows\" of the table.\n",
    "    # Level 3: 1st and 4th Tag \"td\" include the \"dates\" of trading sessions\n",
    "    # while 2nd and 5th Tag \"td\" include the corresponding prices.\n",
    "    tables = soup.find_all('table', {'class': 'indexpagetable'})\n",
    "    table = tables[2]\n",
    "\n",
    "    rows = table.find_all('tr', {'class': ['row1', 'row2']})    \n",
    "\n",
    "    # .find: find the 1st one.\n",
    "    for row in rows:\n",
    "        td = row.find('td')\n",
    "        date.append(td.text)   \n",
    "\n",
    "    for row in rows:\n",
    "        td = row.find_all('td')[3]\n",
    "        date.append(td.text)\n",
    "\n",
    "    for row in rows:\n",
    "        td = row.find_all('td')[1]\n",
    "        price.append(td.text)\n",
    "\n",
    "    for row in rows:\n",
    "        td = row.find_all('td')[4]\n",
    "        price.append(td.text)  \n",
    "    \n",
    "    # Make the length of \"List of Commodities\" identical to that \"Date\" and \"Price\" data\n",
    "    # by repeating each commodity itself 20 times.   \n",
    "    n = int(len(date)/len(comms))\n",
    "    comm = list(itertools.chain.from_iterable((itertools.repeat(comm, n) for comm in comms)))"
   ]
  },
  {
   "cell_type": "markdown",
   "metadata": {},
   "source": [
    "### 3.2. Create Dataframe"
   ]
  },
  {
   "cell_type": "code",
   "execution_count": null,
   "metadata": {},
   "outputs": [],
   "source": [
    "df = pd.DataFrame({'comm':comm, 'date': date, 'price': price})\n",
    "df"
   ]
  },
  {
   "cell_type": "markdown",
   "metadata": {},
   "source": [
    "### 3.3. Remove Data"
   ]
  },
  {
   "cell_type": "code",
   "execution_count": null,
   "metadata": {},
   "outputs": [],
   "source": [
    "# Specify commodies that are not within the analysis period.  \n",
    "df[df['date'].str.contains('2018/09')]"
   ]
  },
  {
   "cell_type": "code",
   "execution_count": null,
   "metadata": {},
   "outputs": [],
   "source": [
    "# Exclude the specified data from the dataframe.\n",
    "df = df[df['comm'] != '鈾']\n",
    "df"
   ]
  },
  {
   "cell_type": "code",
   "execution_count": null,
   "metadata": {},
   "outputs": [],
   "source": [
    "# Remove the specified commodity from the list.\n",
    "comms.remove('鈾')\n",
    "comms"
   ]
  },
  {
   "cell_type": "markdown",
   "metadata": {},
   "source": [
    "### 3.4. Split Dataframe into Chunks"
   ]
  },
  {
   "cell_type": "code",
   "execution_count": null,
   "metadata": {},
   "outputs": [],
   "source": [
    "# There are 20 datasets for each commodity.  \n",
    "n = int(len(date)/len(comms))\n",
    "# There are 540 rows in \"df\" and the interval should be set as 20 to split \"df\" into 27 even chunks. \n",
    "list_df = [df[i:i+n] for i in range(0,df.shape[0],n)]\n",
    "list_df"
   ]
  }
 ],
 "metadata": {
  "kernelspec": {
   "display_name": "Python 3",
   "language": "python",
   "name": "python3"
  },
  "language_info": {
   "codemirror_mode": {
    "name": "ipython",
    "version": 3
   },
   "file_extension": ".py",
   "mimetype": "text/x-python",
   "name": "python",
   "nbconvert_exporter": "python",
   "pygments_lexer": "ipython3",
   "version": "3.6.5"
  }
 },
 "nbformat": 4,
 "nbformat_minor": 2
}
