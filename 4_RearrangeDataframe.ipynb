{
 "cells": [
  {
   "cell_type": "markdown",
   "metadata": {},
   "source": [
    "## 4. Rearrange Dataframe"
   ]
  },
  {
   "cell_type": "markdown",
   "metadata": {},
   "source": [
    "### 4.1. Split Dataframe into Chunks"
   ]
  },
  {
   "cell_type": "code",
   "execution_count": null,
   "metadata": {},
   "outputs": [],
   "source": [
    "# Create a list to include 26 small chunks which represent 26 listed commodities.\n",
    "list_df = []\n",
    "\n",
    "# \"n\" as key represents \"comm.\"\n",
    "# \"g\" as value includes \"date\" and \"price.\"\n",
    "for n,g in df.groupby('comm'):\n",
    "    list_df.append(g)"
   ]
  },
  {
   "cell_type": "markdown",
   "metadata": {},
   "source": [
    "### 4.2. Combine Chunks to Single Dataframe"
   ]
  },
  {
   "cell_type": "code",
   "execution_count": null,
   "metadata": {},
   "outputs": [],
   "source": [
    "# Will be used to calculate the mean of each commodity.\n",
    "df_mean = pd.concat(list_df)"
   ]
  },
  {
   "cell_type": "markdown",
   "metadata": {},
   "source": [
    "### 4.3. Calculate Mean"
   ]
  },
  {
   "cell_type": "code",
   "execution_count": null,
   "metadata": {},
   "outputs": [],
   "source": [
    "means= []\n",
    "for i in range (len(list_df)):\n",
    "    mean = sum((list_df)[i]['price'].astype(float))/len((list_df)[i])\n",
    "    # Specify how many times each commodity has to repeat itself \n",
    "    # to make the length of the mean identical to that of “date” and “price.”\n",
    "    n = len((list_df)[i])\n",
    "    # Use \"iteration\" to perform repetitive calculations.\n",
    "    m = list((itertools.repeat(mean, n)))\n",
    "    # Add lists together.\n",
    "    means = means + m"
   ]
  },
  {
   "cell_type": "markdown",
   "metadata": {},
   "source": [
    "### 4.4. Add a New Column to Dataframe"
   ]
  },
  {
   "cell_type": "code",
   "execution_count": null,
   "metadata": {},
   "outputs": [],
   "source": [
    "# Add a new column.\n",
    "df_mean['mean'] = means\n",
    "# Format values in Column “mean.”\n",
    "df_mean['mean'] = df_mean['mean'].round(2)"
   ]
  },
  {
   "cell_type": "markdown",
   "metadata": {},
   "source": [
    "### 4.5. Sort Values by Mean"
   ]
  },
  {
   "cell_type": "code",
   "execution_count": null,
   "metadata": {},
   "outputs": [],
   "source": [
    "# Sort values in descending order.\n",
    "df_mean = df_mean.sort_values(['mean', 'date'], ascending = False)"
   ]
  },
  {
   "cell_type": "markdown",
   "metadata": {},
   "source": [
    "### 4.6. Groupby by Mean"
   ]
  },
  {
   "cell_type": "code",
   "execution_count": null,
   "metadata": {},
   "outputs": [],
   "source": [
    "# Note that the sorting order of \"groupby\" function is defaulted as ascending, \n",
    "# which is why sorting values in descending order has to be done prior to the \n",
    "# application of \"groupby\" function and parameter \"sort\" must be set as \"False.\" \n",
    "grouped = df_mean.groupby([\"mean\"], sort = False)"
   ]
  },
  {
   "cell_type": "markdown",
   "metadata": {},
   "source": [
    "### 4.7. Extract Mean"
   ]
  },
  {
   "cell_type": "code",
   "execution_count": null,
   "metadata": {},
   "outputs": [],
   "source": [
    "mean_keys = grouped.groups.keys()"
   ]
  },
  {
   "cell_type": "markdown",
   "metadata": {},
   "source": [
    "### 4.8. Define the Number of Lines to be Displayed"
   ]
  },
  {
   "cell_type": "code",
   "execution_count": null,
   "metadata": {},
   "outputs": [],
   "source": [
    "# Round a number upward to its nearest integer.\n",
    "n = math.ceil(len(mean_keys)/4)"
   ]
  },
  {
   "cell_type": "markdown",
   "metadata": {},
   "source": [
    "### 4.9. Split Means into Groups"
   ]
  },
  {
   "cell_type": "code",
   "execution_count": null,
   "metadata": {},
   "outputs": [],
   "source": [
    "# Create a list to include 4 groups of means.\n",
    "mean_data = []\n",
    "for i in range (0, len(mean_keys), n):\n",
    "    mean_data.append(list(mean_keys)[i:i+n]) "
   ]
  },
  {
   "cell_type": "markdown",
   "metadata": {},
   "source": [
    "### 4.10. Split Dataframe into Chunks"
   ]
  },
  {
   "cell_type": "code",
   "execution_count": null,
   "metadata": {},
   "outputs": [],
   "source": [
    "# Create a list to include 4 lists each of which contains at most 6 dataframes.\n",
    "mean_gp = []\n",
    "# \"i\" used to specify which mean group is to be processed.\n",
    "for i in range (len(mean_data)):\n",
    "    l = [] \n",
    "    # \"j\" used to specify which element of the selected mean group is to be processed.\n",
    "    for j in range (len((mean_data)[i])):\n",
    "        temp = df_mean[df_mean['mean'] == mean_data[i][j]]\n",
    "        l.append(temp)\n",
    "    mean_gp.append(l)"
   ]
  }
 ],
 "metadata": {
  "kernelspec": {
   "display_name": "Python 3",
   "language": "python",
   "name": "python3"
  },
  "language_info": {
   "codemirror_mode": {
    "name": "ipython",
    "version": 3
   },
   "file_extension": ".py",
   "mimetype": "text/x-python",
   "name": "python",
   "nbconvert_exporter": "python",
   "pygments_lexer": "ipython3",
   "version": "3.6.5"
  }
 },
 "nbformat": 4,
 "nbformat_minor": 2
}
