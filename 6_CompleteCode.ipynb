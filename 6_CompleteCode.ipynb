{
 "cells": [
  {
   "cell_type": "markdown",
   "metadata": {},
   "source": [
    "## 1. Import Library"
   ]
  },
  {
   "cell_type": "markdown",
   "metadata": {},
   "source": [
    "### 1.1. Import Standard Library"
   ]
  },
  {
   "cell_type": "code",
   "execution_count": null,
   "metadata": {},
   "outputs": [],
   "source": [
    "import itertools\n",
    "import pandas as pd\n",
    "import math"
   ]
  },
  {
   "cell_type": "markdown",
   "metadata": {},
   "source": [
    "### 1.2. Import Parser Library"
   ]
  },
  {
   "cell_type": "code",
   "execution_count": null,
   "metadata": {},
   "outputs": [],
   "source": [
    "import requests\n",
    "from bs4 import BeautifulSoup"
   ]
  },
  {
   "cell_type": "markdown",
   "metadata": {},
   "source": [
    "### 1.3. Import Interactive Graphing Library: Bokeh"
   ]
  },
  {
   "cell_type": "code",
   "execution_count": null,
   "metadata": {},
   "outputs": [],
   "source": [
    "from bokeh.palettes import viridis\n",
    "from bokeh.models import ColumnDataSource, DatetimeTickFormatter, HoverTool,  NumeralTickFormatter\n",
    "from bokeh.io import show, output_file, output_notebook\n",
    "from bokeh.plotting import figure\n",
    "from bokeh.layouts import gridplot"
   ]
  },
  {
   "cell_type": "markdown",
   "metadata": {},
   "source": [
    "## 2. Web Scraping"
   ]
  },
  {
   "cell_type": "markdown",
   "metadata": {},
   "source": [
    "### 2.1. Scraping Contents of Main Page"
   ]
  },
  {
   "cell_type": "code",
   "execution_count": null,
   "metadata": {},
   "outputs": [],
   "source": [
    "resp = requests.get('http://www.stockq.org/market/commodity.php')\n",
    "resp.encoding = 'utf-8'\n",
    "soup = BeautifulSoup(resp.text, 'html.parser')\n",
    "print(soup)"
   ]
  },
  {
   "cell_type": "markdown",
   "metadata": {},
   "source": [
    "### 2.2. Scraping Contents of Subpages"
   ]
  },
  {
   "cell_type": "code",
   "execution_count": null,
   "metadata": {},
   "outputs": [],
   "source": [
    "# Tag \"a\" is included in Tag \"td.\"\n",
    "td = soup.find_all('td')\n",
    "# Tag \"a\" contains hyperlinks of listed commodities.\n",
    "hrefs = []\n",
    "comms = []\n",
    "\n",
    "for s in td:\n",
    "    try:\n",
    "        a = s.find('a', href=True)\n",
    "        hrefs.append(\"http://www.stockq.org\" + a['href'])\n",
    "        comms.append(s.find('a').text)\n",
    "    except:\n",
    "        pass"
   ]
  },
  {
   "cell_type": "markdown",
   "metadata": {},
   "source": [
    "## 3. Clean Dataset"
   ]
  },
  {
   "cell_type": "markdown",
   "metadata": {},
   "source": [
    "### 3.1. Extract Data"
   ]
  },
  {
   "cell_type": "code",
   "execution_count": null,
   "metadata": {},
   "outputs": [],
   "source": [
    "# Ignore data that is not relevant to commodities.   \n",
    "comms = comms[11:-2]\n",
    "# Specify hyperlinks of corresponding commodities.\n",
    "hrefs = hrefs[11:-2]\n",
    "\n",
    "date = []\n",
    "price = []\n",
    "\n",
    "for href in hrefs: \n",
    "    \n",
    "    # Extract data from the subpage of corresponding commodity.\n",
    "    resp = requests.get(href)\n",
    "    resp.encoding='utf-8'\n",
    "    soup = BeautifulSoup(resp.text, 'html.parser')\n",
    "    \n",
    "    # Price for each trading session of the specified commodity is listed in:\n",
    "    # Level 1: 3rd Tag \"table\" with Class named \"indexpagetable.\"\n",
    "    # Level 2: Tag \"tr\" with Class named \"row1\" and \"row2,\"\n",
    "    # where \"row1\" stands for \"odd rows\" of the table\n",
    "    # while \"row2\" stands for \"even rows\" of the table.\n",
    "    # Level 3: 1st and 4th Tag \"td\" include the \"dates\" of trading sessions\n",
    "    # while 2nd and 5th Tag \"td\" include the corresponding prices.\n",
    "    tables = soup.find_all('table', {'class': 'indexpagetable'})\n",
    "    table = tables[2]\n",
    "\n",
    "    rows = table.find_all('tr', {'class': ['row1', 'row2']})    \n",
    "\n",
    "    # .find: find the 1st one.\n",
    "    for row in rows:\n",
    "        td = row.find('td')\n",
    "        date.append(td.text)   \n",
    "\n",
    "    for row in rows:\n",
    "        td = row.find_all('td')[3]\n",
    "        date.append(td.text)\n",
    "\n",
    "    for row in rows:\n",
    "        td = row.find_all('td')[1]\n",
    "        price.append(td.text)\n",
    "\n",
    "    for row in rows:\n",
    "        td = row.find_all('td')[4]\n",
    "        price.append(td.text)  \n",
    "    \n",
    "    # Make the length of \"List of Commodities\" identical to that of \"date\" and \"price\" data\n",
    "    # by repeating each commodity the number of times of the occurance of \"date\" data.   \n",
    "    n = int(len(date)/len(comms))\n",
    "    comm = list(itertools.chain.from_iterable((itertools.repeat(comm, n) for comm in comms)))"
   ]
  },
  {
   "cell_type": "markdown",
   "metadata": {},
   "source": [
    "### 3.2. Create Dataframe"
   ]
  },
  {
   "cell_type": "code",
   "execution_count": null,
   "metadata": {},
   "outputs": [],
   "source": [
    "df = pd.DataFrame({'comm':comm, 'date': date, 'price': price})"
   ]
  },
  {
   "cell_type": "markdown",
   "metadata": {},
   "source": [
    "### 3.3. Save Dataframe"
   ]
  },
  {
   "cell_type": "code",
   "execution_count": null,
   "metadata": {},
   "outputs": [],
   "source": [
    "df.to_csv(\"G:\\\\Commodity_201812_201901.csv\", index = False, encoding = \"ansi\")"
   ]
  },
  {
   "cell_type": "markdown",
   "metadata": {},
   "source": [
    "### 3.4. Read csv File"
   ]
  },
  {
   "cell_type": "code",
   "execution_count": null,
   "metadata": {},
   "outputs": [],
   "source": [
    "df = pd.read_csv(\"G:\\\\Commodity_201812_201901.csv\", encoding = 'ansi')"
   ]
  },
  {
   "cell_type": "markdown",
   "metadata": {},
   "source": [
    "### 3.5. Remove Data"
   ]
  },
  {
   "cell_type": "code",
   "execution_count": null,
   "metadata": {},
   "outputs": [],
   "source": [
    "# Specify commodities that are not within the analysis period.  \n",
    "df[df['date'].str.contains('2018/09')]"
   ]
  },
  {
   "cell_type": "code",
   "execution_count": null,
   "metadata": {},
   "outputs": [],
   "source": [
    "# Exclude data that may not be correctly given.\n",
    "df = df[~df['date'].str.contains('2019/12/31')]"
   ]
  },
  {
   "cell_type": "code",
   "execution_count": null,
   "metadata": {},
   "outputs": [],
   "source": [
    "# Exclude the specified data from the dataframe.\n",
    "df = df[df['comm'] != '鈾']\n",
    "df"
   ]
  },
  {
   "cell_type": "code",
   "execution_count": null,
   "metadata": {},
   "outputs": [],
   "source": [
    "# Remove the specified commodity from the list.\n",
    "comms.remove('鈾')\n",
    "comms"
   ]
  },
  {
   "cell_type": "markdown",
   "metadata": {},
   "source": [
    "## 4. Reshape Dataframe"
   ]
  },
  {
   "cell_type": "markdown",
   "metadata": {},
   "source": [
    "### 4.1. Split Dataframe into Chunks"
   ]
  },
  {
   "cell_type": "code",
   "execution_count": null,
   "metadata": {},
   "outputs": [],
   "source": [
    "# Create a list to include 26 small chunks which represent 26 listed commodities.\n",
    "list_df = []\n",
    "\n",
    "# \"n\" as key represents \"comm.\"\n",
    "# \"g\" as value includes \"date\" and \"price.\"\n",
    "for n,g in df.groupby('comm'):\n",
    "    list_df.append(g)"
   ]
  },
  {
   "cell_type": "markdown",
   "metadata": {},
   "source": [
    "### 4.2. Combine Chunks to Single Dataframe"
   ]
  },
  {
   "cell_type": "code",
   "execution_count": null,
   "metadata": {},
   "outputs": [],
   "source": [
    "# Will be used to calculate the mean of each commodity.\n",
    "df_mean = pd.concat(list_df)"
   ]
  },
  {
   "cell_type": "markdown",
   "metadata": {},
   "source": [
    "### 4.3. Calculate Mean"
   ]
  },
  {
   "cell_type": "code",
   "execution_count": null,
   "metadata": {},
   "outputs": [],
   "source": [
    "means= []\n",
    "for i in range (len(list_df)):\n",
    "    mean = sum((list_df)[i]['price'].astype(float))/len((list_df)[i])\n",
    "    # Specify how many times each commodity has to repeat itself \n",
    "    # to make the length of the mean identical to that of “date” and “price.”\n",
    "    n = len((list_df)[i])\n",
    "    # Use \"iteration\" to perform repetitive calculations.\n",
    "    m = list((itertools.repeat(mean, n)))\n",
    "    # Add lists together.\n",
    "    means = means + m"
   ]
  },
  {
   "cell_type": "markdown",
   "metadata": {},
   "source": [
    "### 4.4. Add a New Column to Dataframe"
   ]
  },
  {
   "cell_type": "code",
   "execution_count": null,
   "metadata": {},
   "outputs": [],
   "source": [
    "# Add a new column.\n",
    "df_mean['mean'] = means\n",
    "# Format values in Column “mean.”\n",
    "df_mean['mean'] = df_mean['mean'].round(2)"
   ]
  },
  {
   "cell_type": "markdown",
   "metadata": {},
   "source": [
    "### 4.5. Sort Values by Mean"
   ]
  },
  {
   "cell_type": "code",
   "execution_count": null,
   "metadata": {},
   "outputs": [],
   "source": [
    "# Sort values in descending order.\n",
    "df_mean = df_mean.sort_values(['mean', 'date'], ascending = False)"
   ]
  },
  {
   "cell_type": "markdown",
   "metadata": {},
   "source": [
    "### 4.6. Groupby by Mean"
   ]
  },
  {
   "cell_type": "code",
   "execution_count": null,
   "metadata": {},
   "outputs": [],
   "source": [
    "# Note that the sorting order of \"groupby\" function is defaulted as ascending, \n",
    "# which is why sorting values in descending order has to be done prior to the \n",
    "# application of \"groupby\" function and parameter \"sort\" must be set as \"False.\" \n",
    "grouped = df_mean.groupby([\"mean\"], sort = False)"
   ]
  },
  {
   "cell_type": "markdown",
   "metadata": {},
   "source": [
    "### 4.7. Extract Mean"
   ]
  },
  {
   "cell_type": "code",
   "execution_count": null,
   "metadata": {},
   "outputs": [],
   "source": [
    "mean_keys = grouped.groups.keys()"
   ]
  },
  {
   "cell_type": "markdown",
   "metadata": {},
   "source": [
    "### 4.8. Define the Number of Lines to be Displayed"
   ]
  },
  {
   "cell_type": "code",
   "execution_count": null,
   "metadata": {},
   "outputs": [],
   "source": [
    "# Round a number upward to its nearest integer.\n",
    "n = math.ceil(len(mean_keys)/4)"
   ]
  },
  {
   "cell_type": "markdown",
   "metadata": {},
   "source": [
    "### 4.9. Split Means into Groups"
   ]
  },
  {
   "cell_type": "code",
   "execution_count": null,
   "metadata": {},
   "outputs": [],
   "source": [
    "# Create a list to include 4 groups of means.\n",
    "mean_data = []\n",
    "for i in range (0, len(mean_keys), n):\n",
    "    mean_data.append(list(mean_keys)[i:i+n]) "
   ]
  },
  {
   "cell_type": "markdown",
   "metadata": {},
   "source": [
    "### 4.10. Split Dataframe into Chunks"
   ]
  },
  {
   "cell_type": "code",
   "execution_count": null,
   "metadata": {},
   "outputs": [],
   "source": [
    "# Create a list to include 4 lists each of which contains at most 6 dataframes.\n",
    "mean_gp = []\n",
    "# \"i\" used to specify which mean group is to be processed.\n",
    "for i in range (len(mean_data)):\n",
    "    l = [] \n",
    "    # \"j\" used to specify which element of the selected mean group is to be processed.\n",
    "    for j in range (len((mean_data)[i])):\n",
    "        temp = df_mean[df_mean['mean'] == mean_data[i][j]]\n",
    "        l.append(temp)\n",
    "    mean_gp.append(l)"
   ]
  },
  {
   "cell_type": "markdown",
   "metadata": {},
   "source": [
    "## 5. Data Visualization"
   ]
  },
  {
   "cell_type": "code",
   "execution_count": null,
   "metadata": {},
   "outputs": [],
   "source": [
    "# Configure an output to a standalone HTML file.\n",
    "output_file('5_InteractiveLineChart.html')"
   ]
  },
  {
   "cell_type": "code",
   "execution_count": null,
   "metadata": {},
   "outputs": [],
   "source": [
    "# Create a list to include 4 plots which will be arranged into a grid.\n",
    "g = []\n",
    "\n",
    "# Specify the display of tooltips.\n",
    "# {%F} suggests that datetime will be formatted as YYYY-MM-DD.\n",
    "# Notice: Tooltip data is associated with \"source.\"\n",
    "hover = HoverTool(tooltips=[('Commodity', '@Commodity'),('Date', '@Date{%F}'),('Price', '@Price')],\n",
    "                  formatters={'Date': 'datetime'})\n",
    "\n",
    "# Specify which mean group is to be processed.\n",
    "for i in range(len(mean_gp)):\n",
    "\n",
    "    # Set overall formats of the plot.\n",
    "    p = figure(plot_width=800, plot_height=800, x_axis_type='datetime')\n",
    "    p.title.text = 'Commodity Prices: Group%d'% (i+1)\n",
    "    p.add_tools(hover)\n",
    "\n",
    "    # Specify which element of the selected mean group is to be processed.\n",
    "    for df, color in zip(mean_gp[i], viridis(7)):\n",
    "        \n",
    "        # Define legend items.\n",
    "        name = df['comm'].unique()[0]\n",
    "\n",
    "        # Convert argument to datetime.\n",
    "        df['date'] = pd.to_datetime(df['date'])\n",
    "        # Define data that is to be imported for plotting.\n",
    "        source = ColumnDataSource(data={'Commodity': df['comm'], 'Date': df['date'], 'Price': df['price']})\n",
    "        # Set overall formats of the line chart.\n",
    "        # Notice: Data is associated with \"source.\"\n",
    "        r = p.line(x='Date', y='Price', line_width=2, color=color, alpha=0.8,\n",
    "                   muted_color=color, muted_alpha=0.2, legend=name, source=source)\n",
    "        # Default line chart as muted.\n",
    "        r.muted = True\n",
    "\n",
    "        # Location of legend.\n",
    "        p.legend.location = 'top_left'\n",
    "        # click on the legend item and the corresponding line will be muted or lighted up. \n",
    "        p.legend.click_policy = 'mute'\n",
    "        # Add thousand separator to labels of Y-axis. \n",
    "        p.yaxis.formatter = NumeralTickFormatter(format='0,0')\n",
    "        \n",
    "    g.append(p)  \n",
    "    \n",
    "grid = gridplot(g, ncols=2, nrows=2, plot_width=400, plot_height=400)\n",
    "\n",
    "output_notebook()\n",
    "show(grid)"
   ]
  }
 ],
 "metadata": {
  "kernelspec": {
   "display_name": "Python 3",
   "language": "python",
   "name": "python3"
  },
  "language_info": {
   "codemirror_mode": {
    "name": "ipython",
    "version": 3
   },
   "file_extension": ".py",
   "mimetype": "text/x-python",
   "name": "python",
   "nbconvert_exporter": "python",
   "pygments_lexer": "ipython3",
   "version": "3.6.5"
  }
 },
 "nbformat": 4,
 "nbformat_minor": 2
}
